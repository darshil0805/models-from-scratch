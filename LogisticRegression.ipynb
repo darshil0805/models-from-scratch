{
  "nbformat": 4,
  "nbformat_minor": 0,
  "metadata": {
    "colab": {
      "name": "Logistic Regression from Scratch.ipynb",
      "provenance": [],
      "authorship_tag": "ABX9TyMADqHmbmJrt6IiSrDMbYFF",
      "include_colab_link": true
    },
    "kernelspec": {
      "name": "python3",
      "display_name": "Python 3"
    },
    "language_info": {
      "name": "python"
    }
  },
  "cells": [
    {
      "cell_type": "markdown",
      "metadata": {
        "id": "view-in-github",
        "colab_type": "text"
      },
      "source": [
        "<a href=\"https://colab.research.google.com/github/darshil0805/models-from-scratch/blob/main/LogisticRegression.ipynb\" target=\"_parent\"><img src=\"https://colab.research.google.com/assets/colab-badge.svg\" alt=\"Open In Colab\"/></a>"
      ]
    },
    {
      "cell_type": "markdown",
      "source": [
        "#Implementing Logistic Regression from Scratch\n",
        "Using pytorch to implement logisitc regression from scratch"
      ],
      "metadata": {
        "id": "ymGoP2Bnq6TK"
      }
    },
    {
      "cell_type": "code",
      "source": [
        "# imports\n",
        "import torch\n",
        "import torchvision \n",
        "from torchvision.datasets import MNIST"
      ],
      "metadata": {
        "id": "N5dmU3RhrUSH"
      },
      "execution_count": 1,
      "outputs": []
    },
    {
      "cell_type": "code",
      "source": [
        "mnist_train = MNIST(train = True, root = 'data/',transform = torchvision.transforms.ToTensor(),download = True)\n",
        "mnist_test = MNIST(train = False, root= 'data/',transform = torchvision.transforms.ToTensor(), download = True)"
      ],
      "metadata": {
        "id": "Df7AMM7vrfbn"
      },
      "execution_count": 2,
      "outputs": []
    },
    {
      "cell_type": "code",
      "source": [
        "import matplotlib.pyplot as plt\n",
        "%matplotlib inline\n",
        "import numpy as np\n",
        "plt.imshow(np.array(mnist_train[0][0][0]),cmap = 'gray')"
      ],
      "metadata": {
        "colab": {
          "base_uri": "https://localhost:8080/",
          "height": 282
        },
        "id": "gcjk-ocgsMi0",
        "outputId": "6aa55858-ebe2-4982-db23-af32d64ef7d9"
      },
      "execution_count": 3,
      "outputs": [
        {
          "output_type": "execute_result",
          "data": {
            "text/plain": [
              "<matplotlib.image.AxesImage at 0x7f1bdcc7cd50>"
            ]
          },
          "metadata": {},
          "execution_count": 3
        },
        {
          "output_type": "display_data",
          "data": {
            "image/png": "[encoded data removed]",
            "text/plain": [
              "<Figure size 432x288 with 1 Axes>"
            ]
          },
          "metadata": {
            "needs_background": "light"
          }
        }
      ]
    },
    {
      "cell_type": "code",
      "source": [
        "from torch.utils.data import random_split\n",
        "\n",
        "train_ds,valid_ds = random_split(mnist_train,[50000,10000])"
      ],
      "metadata": {
        "id": "-ISGeiY-sr_U"
      },
      "execution_count": 4,
      "outputs": []
    },
    {
      "cell_type": "code",
      "source": [
        "from torch.utils.data import DataLoader\n",
        "bs = 128\n",
        "train_dl = DataLoader(train_ds,bs,shuffle = True)\n",
        "valid_dl = DataLoader(valid_ds,bs,shuffle = True)"
      ],
      "metadata": {
        "id": "jAuFJVhauUwC"
      },
      "execution_count": 5,
      "outputs": []
    },
    {
      "cell_type": "code",
      "source": [
        "import torch.nn.functional as F\n",
        "import torch.nn as nn"
      ],
      "metadata": {
        "id": "tK3wUlQ1unSf"
      },
      "execution_count": 6,
      "outputs": []
    },
    {
      "cell_type": "code",
      "source": [
        "model = nn.Linear(28*28,10)"
      ],
      "metadata": {
        "id": "3vNJNDQwu_KZ"
      },
      "execution_count": 7,
      "outputs": []
    },
    {
      "cell_type": "code",
      "source": [
        "x = list(train_dl)[0][0]"
      ],
      "metadata": {
        "id": "rYwz_ncjvS1i"
      },
      "execution_count": 8,
      "outputs": []
    },
    {
      "cell_type": "code",
      "source": [
        "x = x.reshape(-1,784)"
      ],
      "metadata": {
        "id": "rQM42XzCzJcl"
      },
      "execution_count": 9,
      "outputs": []
    },
    {
      "cell_type": "code",
      "source": [
        "def accuracy(outputs,labels):\n",
        "  _,preds = torch.max(outputs,dim = 1)\n",
        "  return torch.tensor(torch.sum(preds == labels).item() / len(preds))"
      ],
      "metadata": {
        "id": "cPQF0-KyzR1L"
      },
      "execution_count": 10,
      "outputs": []
    },
    {
      "cell_type": "code",
      "source": [
        "input_size = 28*28\n",
        "num_classes = 10\n",
        "class MnistModel(nn.Module):\n",
        "  def __init__(self):\n",
        "    super().__init__()\n",
        "    self.linear = nn.Linear(input_size,num_classes)\n",
        "  \n",
        "  def forward(self,xb):\n",
        "    xb = xb.reshape(-1,784)\n",
        "    return self.linear(xb)\n",
        "\n",
        "  def training_step(self,batch):\n",
        "    xb,yb = batch\n",
        "    preds = self(xb)\n",
        "    loss = F.cross_entropy(preds,yb)\n",
        "    return loss\n",
        "\n",
        "  def validation_step(self,batch):\n",
        "    xb,yb = batch\n",
        "    preds = self(xb)\n",
        "    loss = F.cross_entropy(preds,yb)\n",
        "    acc = accuracy(preds,yb)\n",
        "    return {'val_acc':acc,'val_loss':loss}\n",
        "  \n",
        "  def validation_epoch_end(self,outputs): # outputs is the list of dictionaries of validation_step of every batch\n",
        "    batch_losses = [x['val_loss'] for x in outputs]\n",
        "    epoch_loss = torch.stack(batch_losses).mean()\n",
        "    batch_acc = [x['val_acc'] for x in outputs]\n",
        "    epoch_acc = torch.stack(batch_acc).mean()\n",
        "    return {'epoch_acc':epoch_acc.item(),'epoch_loss':epoch_loss.item()}\n",
        "\n",
        "  def epoch_end(self,epoch,result):\n",
        "    print(f\"Epoch : {epoch} has Accuracy : {result['epoch_acc']:.4f} and Loss : {result['epoch_loss']:.4f}\")\n",
        "    \n",
        "\n"
      ],
      "metadata": {
        "id": "LlXoC-tnvivl"
      },
      "execution_count": 11,
      "outputs": []
    },
    {
      "cell_type": "code",
      "source": [
        "def evaluate(model,val_loader):\n",
        "  outputs = [model.validation_step(batch) for batch in val_loader]\n",
        "  return model.validation_epoch_end(outputs)"
      ],
      "metadata": {
        "id": "XlmZy32096Zj"
      },
      "execution_count": 12,
      "outputs": []
    },
    {
      "cell_type": "code",
      "source": [
        "model = MnistModel()"
      ],
      "metadata": {
        "id": "9nDxtm2l-a3v"
      },
      "execution_count": 13,
      "outputs": []
    },
    {
      "cell_type": "code",
      "source": [
        "evaluate(model,valid_dl)"
      ],
      "metadata": {
        "colab": {
          "base_uri": "https://localhost:8080/"
        },
        "id": "R89I8BXJ-kJb",
        "outputId": "5f98320d-568b-47dd-ee35-4a2afbc40c1a"
      },
      "execution_count": 14,
      "outputs": [
        {
          "output_type": "execute_result",
          "data": {
            "text/plain": [
              "{'epoch_acc': 0.06309335678815842, 'epoch_loss': 2.323092222213745}"
            ]
          },
          "metadata": {},
          "execution_count": 14
        }
      ]
    },
    {
      "cell_type": "code",
      "source": [
        "def fit(epochs,model,train_dl,valid_dl,lr,opt = torch.optim.SGD):\n",
        "  optimizer = opt(model.parameters(),lr = lr)\n",
        "  history = []\n",
        "  for i in range(epochs):\n",
        "    # Training\n",
        "    for batch in train_dl:\n",
        "      loss = model.training_step(batch)\n",
        "      loss.backward()\n",
        "      optimizer.step()\n",
        "      optimizer.zero_grad()\n",
        "\n",
        "    # Validation\n",
        "    result = evaluate(model,valid_dl)\n",
        "    model.epoch_end(i+1,result)\n",
        "    history.append(result)\n",
        "  \n",
        "  return history"
      ],
      "metadata": {
        "id": "tHl-oVvM-pkW"
      },
      "execution_count": 15,
      "outputs": []
    },
    {
      "cell_type": "code",
      "source": [
        "history1 = fit(20,model,train_dl,valid_dl,1e-3)"
      ],
      "metadata": {
        "colab": {
          "base_uri": "https://localhost:8080/"
        },
        "id": "y5h2WZuRDSZA",
        "outputId": "7685d19c-88e3-4e73-f552-b3a07372cf7a"
      },
      "execution_count": 16,
      "outputs": [
        {
          "output_type": "stream",
          "name": "stdout",
          "text": [
            "Epoch : 1 has Accuracy : 0.6022 and Loss : 1.9452\n",
            "Epoch : 2 has Accuracy : 0.7106 and Loss : 1.6806\n",
            "Epoch : 3 has Accuracy : 0.7573 and Loss : 1.4787\n",
            "Epoch : 4 has Accuracy : 0.7788 and Loss : 1.3303\n",
            "Epoch : 5 has Accuracy : 0.7966 and Loss : 1.2130\n",
            "Epoch : 6 has Accuracy : 0.8048 and Loss : 1.1243\n",
            "Epoch : 7 has Accuracy : 0.8150 and Loss : 1.0493\n",
            "Epoch : 8 has Accuracy : 0.8216 and Loss : 0.9858\n",
            "Epoch : 9 has Accuracy : 0.8270 and Loss : 0.9366\n",
            "Epoch : 10 has Accuracy : 0.8301 and Loss : 0.8965\n",
            "Epoch : 11 has Accuracy : 0.8341 and Loss : 0.8614\n",
            "Epoch : 12 has Accuracy : 0.8380 and Loss : 0.8281\n",
            "Epoch : 13 has Accuracy : 0.8419 and Loss : 0.8001\n",
            "Epoch : 14 has Accuracy : 0.8458 and Loss : 0.7726\n",
            "Epoch : 15 has Accuracy : 0.8491 and Loss : 0.7505\n",
            "Epoch : 16 has Accuracy : 0.8521 and Loss : 0.7327\n",
            "Epoch : 17 has Accuracy : 0.8527 and Loss : 0.7149\n",
            "Epoch : 18 has Accuracy : 0.8540 and Loss : 0.7001\n",
            "Epoch : 19 has Accuracy : 0.8574 and Loss : 0.6827\n",
            "Epoch : 20 has Accuracy : 0.8569 and Loss : 0.6709\n"
          ]
        }
      ]
    },
    {
      "cell_type": "code",
      "source": [
        "history2 = fit(20,model,train_dl,valid_dl,1e-5)"
      ],
      "metadata": {
        "colab": {
          "base_uri": "https://localhost:8080/"
        },
        "id": "QgQv3VVxDjKU",
        "outputId": "f9158da0-01bd-4cde-96fe-7817a63785a1"
      },
      "execution_count": 17,
      "outputs": [
        {
          "output_type": "stream",
          "name": "stdout",
          "text": [
            "Epoch : 1 has Accuracy : 0.8569 and Loss : 0.6733\n",
            "Epoch : 2 has Accuracy : 0.8569 and Loss : 0.6733\n",
            "Epoch : 3 has Accuracy : 0.8576 and Loss : 0.6693\n",
            "Epoch : 4 has Accuracy : 0.8569 and Loss : 0.6727\n",
            "Epoch : 5 has Accuracy : 0.8583 and Loss : 0.6692\n",
            "Epoch : 6 has Accuracy : 0.8555 and Loss : 0.6747\n",
            "Epoch : 7 has Accuracy : 0.8576 and Loss : 0.6710\n",
            "Epoch : 8 has Accuracy : 0.8590 and Loss : 0.6682\n",
            "Epoch : 9 has Accuracy : 0.8576 and Loss : 0.6713\n",
            "Epoch : 10 has Accuracy : 0.8571 and Loss : 0.6708\n",
            "Epoch : 11 has Accuracy : 0.8585 and Loss : 0.6680\n",
            "Epoch : 12 has Accuracy : 0.8578 and Loss : 0.6700\n",
            "Epoch : 13 has Accuracy : 0.8585 and Loss : 0.6680\n",
            "Epoch : 14 has Accuracy : 0.8578 and Loss : 0.6694\n",
            "Epoch : 15 has Accuracy : 0.8571 and Loss : 0.6685\n",
            "Epoch : 16 has Accuracy : 0.8564 and Loss : 0.6721\n",
            "Epoch : 17 has Accuracy : 0.8585 and Loss : 0.6671\n",
            "Epoch : 18 has Accuracy : 0.8578 and Loss : 0.6711\n",
            "Epoch : 19 has Accuracy : 0.8585 and Loss : 0.6664\n",
            "Epoch : 20 has Accuracy : 0.8571 and Loss : 0.6701\n"
          ]
        }
      ]
    },
    {
      "cell_type": "code",
      "source": [
        "history = history1 + history2\n",
        "accuracies = [result['epoch_acc'] for result in history]\n",
        "plt.plot(accuracies)\n",
        "plt.xlabel('epoch')\n",
        "plt.ylabel('accuracy')\n",
        "plt.title('Accuracy vs. No. of epochs');"
      ],
      "metadata": {
        "colab": {
          "base_uri": "https://localhost:8080/",
          "height": 295
        },
        "id": "YSQpydsUOKHW",
        "outputId": "88b8b5be-1814-48d4-8cfe-638e6779fa7e"
      },
      "execution_count": 18,
      "outputs": [
        {
          "output_type": "display_data",
          "data": {
            "image/png": "[encoded data removed]",
            "text/plain": [
              "<Figure size 432x288 with 1 Axes>"
            ]
          },
          "metadata": {
            "needs_background": "light"
          }
        }
      ]
    },
    {
      "cell_type": "code",
      "source": [
        "losses = [result['epoch_loss'] for result in history]\n",
        "plt.plot(losses)\n",
        "plt.xlabel('epoch')\n",
        "plt.ylabel('loss')\n",
        "plt.title('Loss vs. No. of epochs');"
      ],
      "metadata": {
        "colab": {
          "base_uri": "https://localhost:8080/",
          "height": 295
        },
        "id": "Qs2Roh0Hffn5",
        "outputId": "090347bc-a50b-44d8-9df8-490a33ed2492"
      },
      "execution_count": 19,
      "outputs": [
        {
          "output_type": "display_data",
          "data": {
            "image/png": "[encoded data removed]",
            "text/plain": [
              "<Figure size 432x288 with 1 Axes>"
            ]
          },
          "metadata": {
            "needs_background": "light"
          }
        }
      ]
    },
    {
      "cell_type": "code",
      "source": [
        "def predict_image(img,model):\n",
        "  out = model(img)\n",
        "  _,preds = torch.max(out,dim = 1)\n",
        "  return preds.item()"
      ],
      "metadata": {
        "id": "EXqkJ8xKPIiS"
      },
      "execution_count": 20,
      "outputs": []
    },
    {
      "cell_type": "code",
      "source": [
        "img,label = valid_ds[0]\n",
        "print(f'Prediction : {predict_image(img,model)}, Label : {label}')\n",
        "plt.imshow(img[0],cmap = 'gray');"
      ],
      "metadata": {
        "colab": {
          "base_uri": "https://localhost:8080/",
          "height": 282
        },
        "id": "yQpfSP_ohSBL",
        "outputId": "5ef3465b-eebe-4706-a594-e126b6e52047"
      },
      "execution_count": 21,
      "outputs": [
        {
          "output_type": "stream",
          "name": "stdout",
          "text": [
            "Prediction : 0, Label : 0\n"
          ]
        },
        {
          "output_type": "display_data",
          "data": {
            "image/png": "[encoded data removed]",
            "text/plain": [
              "<Figure size 432x288 with 1 Axes>"
            ]
          },
          "metadata": {
            "needs_background": "light"
          }
        }
      ]
    },
    {
      "cell_type": "code",
      "source": [
        "img,label = valid_ds[45]\n",
        "print(f'Prediction : {predict_image(img,model)}, Label : {label}')\n",
        "plt.imshow(img[0],cmap = 'gray');"
      ],
      "metadata": {
        "colab": {
          "base_uri": "https://localhost:8080/",
          "height": 282
        },
        "id": "afsK_tejhqKA",
        "outputId": "8ef21386-d4f6-4965-9e8e-f61d4d743ffe"
      },
      "execution_count": 22,
      "outputs": [
        {
          "output_type": "stream",
          "name": "stdout",
          "text": [
            "Prediction : 1, Label : 1\n"
          ]
        },
        {
          "output_type": "display_data",
          "data": {
            "image/png": "[encoded data removed]",
            "text/plain": [
              "<Figure size 432x288 with 1 Axes>"
            ]
          },
          "metadata": {
            "needs_background": "light"
          }
        }
      ]
    },
    {
      "cell_type": "code",
      "source": [
        "img,label = valid_ds[23]\n",
        "print(f'Prediction : {predict_image(img,model)}, Label : {label}')\n",
        "plt.imshow(img[0],cmap = 'gray');"
      ],
      "metadata": {
        "colab": {
          "base_uri": "https://localhost:8080/",
          "height": 282
        },
        "id": "Q8zmoYGoiax6",
        "outputId": "b167defa-8c95-4a89-a5ad-fe69b7dcdd63"
      },
      "execution_count": 23,
      "outputs": [
        {
          "output_type": "stream",
          "name": "stdout",
          "text": [
            "Prediction : 8, Label : 8\n"
          ]
        },
        {
          "output_type": "display_data",
          "data": {
            "image/png": "[encoded data removed]",
            "text/plain": [
              "<Figure size 432x288 with 1 Axes>"
            ]
          },
          "metadata": {
            "needs_background": "light"
          }
        }
      ]
    },
    {
      "cell_type": "code",
      "source": [
        "result = evaluate(model,valid_dl)"
      ],
      "metadata": {
        "id": "aNJ5c-6Oie7M"
      },
      "execution_count": 24,
      "outputs": []
    },
    {
      "cell_type": "code",
      "source": [
        "result"
      ],
      "metadata": {
        "colab": {
          "base_uri": "https://localhost:8080/"
        },
        "id": "V08KlAcKir0a",
        "outputId": "58a909d8-84fb-4624-d6f5-39473c4cc772"
      },
      "execution_count": 25,
      "outputs": [
        {
          "output_type": "execute_result",
          "data": {
            "text/plain": [
              "{'epoch_acc': 0.8571004867553711, 'epoch_loss': 0.6702978610992432}"
            ]
          },
          "metadata": {},
          "execution_count": 25
        }
      ]
    },
    {
      "cell_type": "code",
      "source": [
        ""
      ],
      "metadata": {
        "id": "TSuH6wHSitH0"
      },
      "execution_count": 25,
      "outputs": []
    }
  ]
}